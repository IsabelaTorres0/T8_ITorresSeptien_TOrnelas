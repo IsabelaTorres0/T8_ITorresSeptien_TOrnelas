{
 "cells": [
  {
   "cell_type": "markdown",
   "id": "5094f1c0",
   "metadata": {},
   "source": [
    "<img style=\"float: left; margin: 30px 15px 15px 15px;\" src=\"https://encrypted-tbn0.gstatic.com/images?q=tbn:ANd9GcTFzQj91sOlkeDFkg5HDbjtR4QJYmLXkfMNig&usqp=CAU\" width=\"400\" height=\"500\" /> \n",
    "    \n",
    "    \n",
    "### <font color='navy'> Simulación matemática. \n",
    "\n",
    "**Nombre:** TALPA DE JESUS ORNELAS GÜITRON.\n",
    "\n",
    "**Fecha:** 1 de noviembre del 2023.\n",
    "\n",
    "**Expediente** : 745134.\n",
    "    \n",
    "**Profesor:** Oscar David Jaramillo Zuluaga.\n",
    "    \n",
    "**Link Github**: \n",
    "\n",
    "## TAREA 8 Modelo de Ahorro"
   ]
  },
  {
   "cell_type": "markdown",
   "id": "804d5bc5",
   "metadata": {},
   "source": [
    "## Código Estudiante 1"
   ]
  },
  {
   "cell_type": "code",
   "execution_count": 96,
   "id": "5508962c",
   "metadata": {},
   "outputs": [],
   "source": [
    "# Librería de análisis de datos\n",
    "import pandas as pd\n",
    "# Librería para manipulación de fechas\n",
    "from datetime import date\n",
    "import numpy as np\n",
    "import numpy_financial as npf"
   ]
  },
  {
   "cell_type": "markdown",
   "id": "56c35297",
   "metadata": {},
   "source": [
    "## Datos de Banco Azteca\n",
    "\n",
    "### Plazo Azteca\n",
    "> - Es una inversión a plazo fijo en moneda nacional de cobertura nacional que te paga intereses al vencimiento.\n",
    "> - Comienza a invertir con un depósito inicial de $\\$15,000.00$ pesos\n",
    ">\n",
    "> Considerando que los plazos y las tazas de intereses cambian de acuerdo al tiempo de inversión del plazo, se elegió considerado una inversión azteca que se renueva cada 91 dias, en la cual al finalizar el tiempo se pagan los intereses y al mismo tiempo se vuelve a hacer la inversión si así lo decides, en este tiempo es cuando nosotros realizaremos un abono para seguir generando ganancias en lo que estemos acumulando cada 3 meses aproximadamente.\n",
    "\n",
    "https://www.bancoazteca.com.mx/productos/inversion/inversion-azteca-plazo.html"
   ]
  },
  {
   "cell_type": "markdown",
   "id": "f391e012",
   "metadata": {},
   "source": [
    "### Datos\n",
    "\n",
    "> - La inversion elegida al plazo de 91 dias tiene GAT Nominal (Ganancia Anual Total Nominal) **2.78% = tasa 0.0278**\n",
    "> - El plazo total de la inversión para generar el dinero a meta es de **3 años**, puesto que es el aproximado para terminar mi carrera en la universidad\n",
    "> - Al ser cada **91 dias**, quiere decir que en el año se daran **4 abonos**\n",
    "> - El monto de ahorro inicial que se tomó en cuenta es el mínimo en Banco Azteca $\\$15,000.00$"
   ]
  },
  {
   "cell_type": "code",
   "execution_count": 97,
   "id": "e17fa3aa",
   "metadata": {},
   "outputs": [],
   "source": [
    "# Datos para la cuenta de ahorro\n",
    "tasa_interes = 0.0278\n",
    "years = 3\n",
    "Abono_year = 4\n",
    "inicial = 15000\n",
    "meta = 85000\n",
    "fecha_inicio = (date(2023,10,30))"
   ]
  },
  {
   "cell_type": "code",
   "execution_count": 98,
   "id": "66edd6e5",
   "metadata": {},
   "outputs": [
    {
     "data": {
      "text/plain": [
       "6100.199859247117"
      ]
     },
     "execution_count": 98,
     "metadata": {},
     "output_type": "execute_result"
    }
   ],
   "source": [
    "# Cálculo de abonos mensuales iguales para llegar a la meta de ahorro en el tiempo deseado\n",
    "Abono = -npf.pmt(tasa_interes/Abono_year,years*Abono_year,(meta-inicial))\n",
    "Abono"
   ]
  },
  {
   "cell_type": "markdown",
   "id": "795330cf",
   "metadata": {},
   "source": [
    "Con esto obtenemos que el abono necesario a cada vencimiento (91 días) es de $\\$6,100.20$ aproximadamente, considerando el plazo total, los abonos por año y la tasa de rendimiento que nos ofrece la institución bancaria."
   ]
  },
  {
   "cell_type": "code",
   "execution_count": 99,
   "id": "5e74249a",
   "metadata": {},
   "outputs": [],
   "source": [
    "# Rango de fechas en la tabla\n",
    "rng = pd.date_range(fecha_inicio, periods=years*Abono_year, freq='91D')\n",
    "rng.name = 'Fecha del abono'\n",
    "\n",
    "# Columnas de abonos y extracto de cuenta en las fechas respectivas\n",
    "df = pd.DataFrame(index=rng, columns=['Abono', 'Balance'], dtype='float')\n",
    "\n",
    "# Para poner el indice con los periodos y no con las fechas\n",
    "df.reset_index(inplace=True)\n",
    "df.index += 1\n",
    "df.index.name = 'Periodo'\n",
    "\n",
    "# Agregar una nueva columna que represente la fecha del final de periodo\n",
    "df['Fin del periodo'] = rng + pd.DateOffset(days=91)\n"
   ]
  },
  {
   "cell_type": "code",
   "execution_count": 100,
   "id": "18314b0a",
   "metadata": {},
   "outputs": [
    {
     "data": {
      "text/plain": [
       "-489.20987273192617"
      ]
     },
     "execution_count": 100,
     "metadata": {},
     "output_type": "execute_result"
    }
   ],
   "source": [
    "npf.ppmt(tasa_interes/Abono_year, 1, years * Abono_year, Abono)"
   ]
  },
  {
   "cell_type": "code",
   "execution_count": 101,
   "id": "12e093c6",
   "metadata": {},
   "outputs": [],
   "source": [
    "# Los abonos son iguales\n",
    "df['Abono'] = Abono\n",
    "# Vector indizador de los periodos de los abonos\n",
    "index_vector = np.arange(1,len(rng)+1)\n",
    "# Extracto de la cuenta mes a mes\n",
    "df[\"Balance\"] = inicial * (1 + tasa_interes/Abono_year)**index_vector + \\\n",
    "                Abono * (((1 + tasa_interes/Abono_year)**index_vector - 1)/(tasa_interes/Abono_year))\n"
   ]
  },
  {
   "cell_type": "code",
   "execution_count": 102,
   "id": "93132133",
   "metadata": {},
   "outputs": [
    {
     "data": {
      "text/html": [
       "<div>\n",
       "<style scoped>\n",
       "    .dataframe tbody tr th:only-of-type {\n",
       "        vertical-align: middle;\n",
       "    }\n",
       "\n",
       "    .dataframe tbody tr th {\n",
       "        vertical-align: top;\n",
       "    }\n",
       "\n",
       "    .dataframe thead th {\n",
       "        text-align: right;\n",
       "    }\n",
       "</style>\n",
       "<table border=\"1\" class=\"dataframe\">\n",
       "  <thead>\n",
       "    <tr style=\"text-align: right;\">\n",
       "      <th></th>\n",
       "      <th>Fecha del abono</th>\n",
       "      <th>Abono</th>\n",
       "      <th>Balance</th>\n",
       "      <th>Fin del periodo</th>\n",
       "    </tr>\n",
       "    <tr>\n",
       "      <th>Periodo</th>\n",
       "      <th></th>\n",
       "      <th></th>\n",
       "      <th></th>\n",
       "      <th></th>\n",
       "    </tr>\n",
       "  </thead>\n",
       "  <tbody>\n",
       "    <tr>\n",
       "      <th>1</th>\n",
       "      <td>2023-10-30</td>\n",
       "      <td>6100.2</td>\n",
       "      <td>21204.45</td>\n",
       "      <td>2024-01-29</td>\n",
       "    </tr>\n",
       "    <tr>\n",
       "      <th>2</th>\n",
       "      <td>2024-01-29</td>\n",
       "      <td>6100.2</td>\n",
       "      <td>27452.02</td>\n",
       "      <td>2024-04-29</td>\n",
       "    </tr>\n",
       "    <tr>\n",
       "      <th>3</th>\n",
       "      <td>2024-04-29</td>\n",
       "      <td>6100.2</td>\n",
       "      <td>33743.01</td>\n",
       "      <td>2024-07-29</td>\n",
       "    </tr>\n",
       "    <tr>\n",
       "      <th>4</th>\n",
       "      <td>2024-07-29</td>\n",
       "      <td>6100.2</td>\n",
       "      <td>40077.73</td>\n",
       "      <td>2024-10-28</td>\n",
       "    </tr>\n",
       "    <tr>\n",
       "      <th>5</th>\n",
       "      <td>2024-10-28</td>\n",
       "      <td>6100.2</td>\n",
       "      <td>46456.47</td>\n",
       "      <td>2025-01-27</td>\n",
       "    </tr>\n",
       "    <tr>\n",
       "      <th>6</th>\n",
       "      <td>2025-01-27</td>\n",
       "      <td>6100.2</td>\n",
       "      <td>52879.54</td>\n",
       "      <td>2025-04-28</td>\n",
       "    </tr>\n",
       "    <tr>\n",
       "      <th>7</th>\n",
       "      <td>2025-04-28</td>\n",
       "      <td>6100.2</td>\n",
       "      <td>59347.25</td>\n",
       "      <td>2025-07-28</td>\n",
       "    </tr>\n",
       "    <tr>\n",
       "      <th>8</th>\n",
       "      <td>2025-07-28</td>\n",
       "      <td>6100.2</td>\n",
       "      <td>65859.91</td>\n",
       "      <td>2025-10-27</td>\n",
       "    </tr>\n",
       "    <tr>\n",
       "      <th>9</th>\n",
       "      <td>2025-10-27</td>\n",
       "      <td>6100.2</td>\n",
       "      <td>72417.84</td>\n",
       "      <td>2026-01-26</td>\n",
       "    </tr>\n",
       "    <tr>\n",
       "      <th>10</th>\n",
       "      <td>2026-01-26</td>\n",
       "      <td>6100.2</td>\n",
       "      <td>79021.34</td>\n",
       "      <td>2026-04-27</td>\n",
       "    </tr>\n",
       "    <tr>\n",
       "      <th>11</th>\n",
       "      <td>2026-04-27</td>\n",
       "      <td>6100.2</td>\n",
       "      <td>85670.74</td>\n",
       "      <td>2026-07-27</td>\n",
       "    </tr>\n",
       "    <tr>\n",
       "      <th>12</th>\n",
       "      <td>2026-07-27</td>\n",
       "      <td>6100.2</td>\n",
       "      <td>92366.35</td>\n",
       "      <td>2026-10-26</td>\n",
       "    </tr>\n",
       "  </tbody>\n",
       "</table>\n",
       "</div>"
      ],
      "text/plain": [
       "        Fecha del abono   Abono   Balance Fin del periodo\n",
       "Periodo                                                  \n",
       "1            2023-10-30  6100.2  21204.45      2024-01-29\n",
       "2            2024-01-29  6100.2  27452.02      2024-04-29\n",
       "3            2024-04-29  6100.2  33743.01      2024-07-29\n",
       "4            2024-07-29  6100.2  40077.73      2024-10-28\n",
       "5            2024-10-28  6100.2  46456.47      2025-01-27\n",
       "6            2025-01-27  6100.2  52879.54      2025-04-28\n",
       "7            2025-04-28  6100.2  59347.25      2025-07-28\n",
       "8            2025-07-28  6100.2  65859.91      2025-10-27\n",
       "9            2025-10-27  6100.2  72417.84      2026-01-26\n",
       "10           2026-01-26  6100.2  79021.34      2026-04-27\n",
       "11           2026-04-27  6100.2  85670.74      2026-07-27\n",
       "12           2026-07-27  6100.2  92366.35      2026-10-26"
      ]
     },
     "execution_count": 102,
     "metadata": {},
     "output_type": "execute_result"
    }
   ],
   "source": [
    "# Redondear con dos cifras decimales y mostrar DataFrame\n",
    "df = df.round(2)\n",
    "df"
   ]
  },
  {
   "cell_type": "markdown",
   "id": "81e41e2a",
   "metadata": {},
   "source": [
    "### Resultados\n",
    "\n",
    "Finalmente en la tabla se muestran los rendimientos después de cada periodo correspondiente, como podemos observar, si comenzamos a realizar el ahorro a partir del 30 de octubre de 2023 con el capital inicial de 15,000 más el abono correspondiente de 6,100 tardaríamos 11 periodos en obtener nuestro objetivo de ahorro, lo que nos dice que en 11 periodos obtendríamos $\\$85,670.74$ , lo que significa poco más de la meta, considerando que al final del periodo es cuando se pagan los intereses, se ha agregado una columna mas que representa el fin del mismo es decir, la fecha en que se obtiene la inversión con sus respectivas ganancias, que será igual a la fecha en la se abona e inicia el siguiente periodo.\n",
    "\n",
    "Ya con todo esto, considerando el punto de la fecha del final del periodo podemos decir que duraríamos aproximadamente 2 años y 9 meses en obtener nuestro ahorro meta de $\\$80,000.00$ iniciando el 30 de octubre de 2023 y finalizando el 26 de julio de 2026, considerando que nuestro capital inicial es de $\\$15,000.00$ más el abono correspondiente de $\\$6,000.00$ \n"
   ]
  },
  {
   "cell_type": "code",
   "execution_count": null,
   "id": "02aad9b7",
   "metadata": {},
   "outputs": [],
   "source": [
    "...."
   ]
  }
 ],
 "metadata": {
  "kernelspec": {
   "display_name": "Python 3 (ipykernel)",
   "language": "python",
   "name": "python3"
  },
  "language_info": {
   "codemirror_mode": {
    "name": "ipython",
    "version": 3
   },
   "file_extension": ".py",
   "mimetype": "text/x-python",
   "name": "python",
   "nbconvert_exporter": "python",
   "pygments_lexer": "ipython3",
   "version": "3.11.4"
  }
 },
 "nbformat": 4,
 "nbformat_minor": 5
}
