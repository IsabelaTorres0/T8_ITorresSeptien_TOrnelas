{
 "cells": [
  {
   "cell_type": "markdown",
   "id": "5094f1c0",
   "metadata": {},
   "source": [
    "<img style=\"float: left; margin: 30px 15px 15px 15px;\" src=\"https://encrypted-tbn0.gstatic.com/images?q=tbn:ANd9GcTFzQj91sOlkeDFkg5HDbjtR4QJYmLXkfMNig&usqp=CAU\" width=\"400\" height=\"500\" /> \n",
    "    \n",
    "    \n",
    "### <font color='navy'> Simulación matemática. \n",
    "\n",
    "**Nombre:** TALPA DE JESUS ORNELAS GÜITRON, Isabela Torres-Septien Uribe\n",
    "\n",
    "**Fecha:** 1 de noviembre del 2023.\n",
    "\n",
    "**Expediente** : 745134, 730667\n",
    "    \n",
    "**Profesor:** Oscar David Jaramillo Zuluaga.\n",
    "    \n",
    "**Link Github**: https://github.com/IsabelaTorres0/T8_ITorresSeptien_TOrnelas\n",
    "\n",
    "## TAREA 8 Modelo de Ahorro"
   ]
  },
  {
   "cell_type": "markdown",
   "id": "804d5bc5",
   "metadata": {},
   "source": [
    "## Código Estudiante 1"
   ]
  },
  {
   "cell_type": "code",
   "execution_count": null,
   "id": "5508962c",
   "metadata": {},
   "outputs": [],
   "source": [
    "# Librería de análisis de datos\n",
    "import pandas as pd\n",
    "# Librería para manipulación de fechas\n",
    "from datetime import date\n",
    "import numpy as np\n",
    "import numpy_financial as npf"
   ]
  },
  {
   "cell_type": "markdown",
   "id": "56c35297",
   "metadata": {},
   "source": [
    "## Datos de Banco Azteca\n",
    "\n",
    "### Plazo Azteca\n",
    "> - Es una inversión a plazo fijo en moneda nacional de cobertura nacional que te paga intereses al vencimiento.\n",
    "> - Comienza a invertir con un depósito inicial de $\\$15,000.00$ pesos\n",
    ">\n",
    "> Considerando que los plazos y las tazas de intereses cambian de acuerdo al tiempo de inversión del plazo, se elegió considerado una inversión azteca que se renueva cada 91 dias, en la cual al finalizar el tiempo se pagan los intereses y al mismo tiempo se vuelve a hacer la inversión si así lo decides, en este tiempo es cuando nosotros realizaremos un abono para seguir generando ganancias en lo que estemos acumulando cada 3 meses aproximadamente.\n",
    "\n",
    "https://www.bancoazteca.com.mx/productos/inversion/inversion-azteca-plazo.html"
   ]
  },
  {
   "cell_type": "markdown",
   "id": "f391e012",
   "metadata": {},
   "source": [
    "### Datos\n",
    "\n",
    "> - La inversion elegida al plazo de 91 dias tiene GAT Nominal (Ganancia Anual Total Nominal) **2.78% = tasa 0.0278**\n",
    "> - El plazo total de la inversión para generar el dinero a meta es de **3 años**, puesto que es el aproximado para terminar mi carrera en la universidad\n",
    "> - Al ser cada **91 dias**, quiere decir que en el año se daran **4 abonos**\n",
    "> - El monto de ahorro inicial que se tomó en cuenta es el mínimo en Banco Azteca $\\$15,000.00$"
   ]
  },
  {
   "cell_type": "code",
   "execution_count": null,
   "id": "e17fa3aa",
   "metadata": {},
   "outputs": [],
   "source": [
    "# Datos para la cuenta de ahorro\n",
    "tasa_interes = 0.0278\n",
    "years = 3\n",
    "Abono_year = 4\n",
    "inicial = 15000\n",
    "meta = 85000\n",
    "fecha_inicio = (date(2023,10,30))"
   ]
  },
  {
   "cell_type": "code",
   "execution_count": null,
   "id": "66edd6e5",
   "metadata": {},
   "outputs": [],
   "source": [
    "# Cálculo de abonos mensuales iguales para llegar a la meta de ahorro en el tiempo deseado\n",
    "Abono = -npf.pmt(tasa_interes/Abono_year,years*Abono_year,(meta-inicial))\n",
    "Abono"
   ]
  },
  {
   "cell_type": "markdown",
   "id": "795330cf",
   "metadata": {},
   "source": [
    "Con esto obtenemos que el abono necesario a cada vencimiento (91 días) es de $\\$6,100.20$ aproximadamente, considerando el plazo total, los abonos por año y la tasa de rendimiento que nos ofrece la institución bancaria."
   ]
  },
  {
   "cell_type": "code",
   "execution_count": null,
   "id": "5e74249a",
   "metadata": {},
   "outputs": [],
   "source": [
    "# Rango de fechas en la tabla\n",
    "rng = pd.date_range(fecha_inicio, periods=years*Abono_year, freq='91D')\n",
    "rng.name = 'Fecha del abono'\n",
    "\n",
    "# Columnas de abonos y extracto de cuenta en las fechas respectivas\n",
    "df = pd.DataFrame(index=rng, columns=['Abono', 'Balance'], dtype='float')\n",
    "\n",
    "# Para poner el indice con los periodos y no con las fechas\n",
    "df.reset_index(inplace=True)\n",
    "df.index += 1\n",
    "df.index.name = 'Periodo'\n",
    "\n",
    "# Agregar una nueva columna que represente la fecha del final de periodo\n",
    "df['Fin del periodo'] = rng + pd.DateOffset(days=91)\n"
   ]
  },
  {
   "cell_type": "code",
   "execution_count": null,
   "id": "18314b0a",
   "metadata": {},
   "outputs": [],
   "source": [
    "npf.ppmt(tasa_interes/Abono_year, 1, years * Abono_year, Abono)"
   ]
  },
  {
   "cell_type": "code",
   "execution_count": null,
   "id": "12e093c6",
   "metadata": {},
   "outputs": [],
   "source": [
    "# Los abonos son iguales\n",
    "df['Abono'] = Abono\n",
    "# Vector indizador de los periodos de los abonos\n",
    "index_vector = np.arange(1,len(rng)+1)\n",
    "# Extracto de la cuenta mes a mes\n",
    "df[\"Balance\"] = inicial * (1 + tasa_interes/Abono_year)**index_vector + \\\n",
    "                Abono * (((1 + tasa_interes/Abono_year)**index_vector - 1)/(tasa_interes/Abono_year))\n"
   ]
  },
  {
   "cell_type": "code",
   "execution_count": null,
   "id": "93132133",
   "metadata": {},
   "outputs": [],
   "source": [
    "# Redondear con dos cifras decimales y mostrar DataFrame\n",
    "df = df.round(2)\n",
    "df"
   ]
  },
  {
   "cell_type": "markdown",
   "id": "81e41e2a",
   "metadata": {},
   "source": [
    "### Resultados\n",
    "\n",
    "Finalmente en la tabla se muestran los rendimientos después de cada periodo correspondiente, como podemos observar, si comenzamos a realizar el ahorro a partir del 30 de octubre de 2023 con el capital inicial de 15,000 más el abono correspondiente de 6,100 tardaríamos 11 periodos en obtener nuestro objetivo de ahorro, lo que nos dice que en 11 periodos obtendríamos $\\$85,670.74$ , lo que significa poco más de la meta, considerando que al final del periodo es cuando se pagan los intereses, se ha agregado una columna mas que representa el fin del mismo es decir, la fecha en que se obtiene la inversión con sus respectivas ganancias, que será igual a la fecha en la se abona e inicia el siguiente periodo.\n",
    "\n",
    "Ya con todo esto, considerando el punto de la fecha del final del periodo podemos decir que duraríamos aproximadamente 2 años y 9 meses en obtener nuestro ahorro meta de $\\$80,000.00$ iniciando el 30 de octubre de 2023 y finalizando el 26 de julio de 2026, considerando que nuestro capital inicial es de $\\$15,000.00$ más el abono correspondiente de $\\$6,000.00$ \n"
   ]
  },
  {
   "cell_type": "markdown",
   "id": "cdd6872b",
   "metadata": {},
   "source": [
    "## Código Estudiante 2"
   ]
  },
  {
   "cell_type": "markdown",
   "id": "1c1d5a06",
   "metadata": {},
   "source": [
    "Un estudiante quiere empezar a juntar para un viaje despues de graduarse calcula que con la inflacion y todo en mente va a ocupar 85,000 pesos tiene 4 años de universidad para ahorar y un capital inicial de 10,000, junto a este puede hacer en 13 abonos anuales de 1,200 pesos cada 28 días. Se concidera hacer la inversion en **Compartamos Banco**, el cual, según la pagina del gobierno CONDUSEF te da una tasa del 10%.\n",
    "\n",
    "https://simulador.condusef.gob.mx/condusefahorro/datos_ppa.php?capital_inicial=10%2C000&ahorro=1%2C200&periodo=28&fecha_inicio_base=2006-01-02&fecha_fin_base=2023-10-29&durante=4"
   ]
  },
  {
   "cell_type": "code",
   "execution_count": null,
   "id": "dd6b71a2",
   "metadata": {},
   "outputs": [],
   "source": [
    "!conda install -c conda-forge numpy-financial -y"
   ]
  },
  {
   "cell_type": "code",
   "execution_count": null,
   "id": "0b6c78ba",
   "metadata": {},
   "outputs": [],
   "source": [
    "# Librería de análisis de datos\n",
    "import pandas as pd\n",
    "# Librería para manipulación de fechas\n",
    "from datetime import date\n",
    "import numpy as np\n",
    "import numpy_financial as npf"
   ]
  },
  {
   "cell_type": "code",
   "execution_count": null,
   "id": "e209a405",
   "metadata": {},
   "outputs": [],
   "source": [
    "# Datos para la cuenta de ahorro\n",
    "tasa_interes = 0.1\n",
    "years = 4\n",
    "Abono_year = 13\n",
    "inicial = 10000\n",
    "meta = 85000\n",
    "fecha_inicio = (date(2023,10,31))"
   ]
  },
  {
   "cell_type": "code",
   "execution_count": null,
   "id": "09f30157",
   "metadata": {},
   "outputs": [],
   "source": [
    "# Cálculo de abonos mensuales\n",
    "Abono = -npf.pmt(tasa_interes/Abono_year, years*Abono_year, (meta-inicial))\n",
    "Abono"
   ]
  },
  {
   "cell_type": "code",
   "execution_count": null,
   "id": "cc1475bd",
   "metadata": {},
   "outputs": [],
   "source": [
    "# Rango de fechas en la tabla\n",
    "rng = pd.date_range(fecha_inicio, periods=years*Abono_year, freq='M')\n",
    "rng.name = 'Fecha del abono'\n",
    "# Columnas de abonos y extracto de cuenta en las fechas respectivas\n",
    "df = pd.DataFrame(index = rng, columns=['Abono','Balance'],dtype='float')\n",
    "# Para poner el indice con los periodos y no con las fechas\n",
    "df.reset_index(inplace=True)\n",
    "\n",
    "df.index+=1\n",
    "df.index.name='Periodo'"
   ]
  },
  {
   "cell_type": "code",
   "execution_count": null,
   "id": "373f12f9",
   "metadata": {},
   "outputs": [],
   "source": [
    "npf.ppmt(tasa_interes/Abono_year, 1, years * Abono_year, Abono)"
   ]
  },
  {
   "cell_type": "code",
   "execution_count": null,
   "id": "86247853",
   "metadata": {},
   "outputs": [],
   "source": [
    "# Los abonos son iguales\n",
    "df['Abono'] = Abono\n",
    "# Vector indizador de los periodos de los abonos\n",
    "index_vector = np.arange(1,len(rng)+1)\n",
    "# Extracto de la cuenta mes a mes\n",
    "df[\"Balance\"] = inicial * (1 + tasa_interes/Abono_year)**index_vector + \\\n",
    "                Abono * (((1 + tasa_interes/Abono_year)**index_vector - 1)/(tasa_interes/Abono_year))\n",
    "\n",
    "df.head()"
   ]
  },
  {
   "cell_type": "code",
   "execution_count": null,
   "id": "72d21619",
   "metadata": {},
   "outputs": [],
   "source": [
    "# Redondear con dos cifras decimales y mostrar DataFrame\n",
    "df = df.round(2)\n",
    "df"
   ]
  },
  {
   "cell_type": "markdown",
   "id": "4e1d579f",
   "metadata": {},
   "source": [
    "**Resultados**"
   ]
  },
  {
   "cell_type": "markdown",
   "id": "a8e10686",
   "metadata": {},
   "source": [
    "Como podemos ver en la tabla los resultados dados empiezan a partir del 31 de Octubre del 23 con lo cual en un total de 85,669.79 lo cual, se excede por 669.79 pesos del valor meta alcanzaríamos esta cifra en la fecha del 30 de septiembre del 26 en el periodo número 36. El cual alcanzamos con un abono de 1,755. Con esto podemos ver el momento en la cual tendriamos la ganancia esperada. \n",
    "\n",
    "Con lo mencionado anteriormente, se puede estimar que tardaríamo 3 años con 11 meses en cumplir la meta y la ganancia de la inversión al final del plazo esperado."
   ]
  }
 ],
 "metadata": {
  "kernelspec": {
   "display_name": "Python 3 (ipykernel)",
   "language": "python",
   "name": "python3"
  },
  "language_info": {
   "codemirror_mode": {
    "name": "ipython",
    "version": 3
   },
   "file_extension": ".py",
   "mimetype": "text/x-python",
   "name": "python",
   "nbconvert_exporter": "python",
   "pygments_lexer": "ipython3",
   "version": "3.11.4"
  }
 },
 "nbformat": 4,
 "nbformat_minor": 5
}
